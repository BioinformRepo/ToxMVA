{
 "cells": [
  {
   "cell_type": "code",
   "execution_count": null,
   "id": "4c980f96",
   "metadata": {},
   "outputs": [],
   "source": [
    "import numpy as np\n",
    "import pandas as pd\n",
    "import torch\n",
    "import torch.nn as nn\n",
    "from sklearn.model_selection import train_test_split\n",
    "from torch.utils.data import DataLoader, TensorDataset\n",
    "from sklearn import metrics\n",
    "import torch.nn.functional as F\n",
    "import torch.optim as opt\n",
    "from transformers import T5EncoderModel, T5Tokenizer\n",
    "import re\n",
    "from sklearn.metrics import accuracy_score, precision_recall_fscore_support\n",
    "from sklearn.model_selection import StratifiedKFold\n",
    "device = torch.device(\"cuda:7\" if torch.cuda.is_available() else \"cpu\")\n"
   ]
  },
  {
   "cell_type": "code",
   "execution_count": null,
   "id": "a04fb95a",
   "metadata": {},
   "outputs": [],
   "source": [
    "data = pd.read_csv('Alternate/alternate.csv')\n",
    "sequences = data['sequences'].values\n",
    "labels = data['labels'].values"
   ]
  },
  {
   "cell_type": "code",
   "execution_count": null,
   "id": "1bee8ded",
   "metadata": {},
   "outputs": [],
   "source": [
    "tokenizer = T5Tokenizer.from_pretrained('Rostlab/prot_t5_xl_uniref50', do_lower_case=False)\n",
    "model = T5EncoderModel.from_pretrained(\"Rostlab/prot_t5_xl_uniref50\")"
   ]
  },
  {
   "cell_type": "code",
   "execution_count": null,
   "id": "42b5d3c4",
   "metadata": {},
   "outputs": [],
   "source": [
    "model = model.to(device)\n",
    "model = model.eval()"
   ]
  },
  {
   "cell_type": "code",
   "execution_count": null,
   "id": "5d5c1e5c",
   "metadata": {},
   "outputs": [],
   "source": [
    "X_ = [' '.join(sequence) for sequence in sequences]"
   ]
  },
  {
   "cell_type": "code",
   "execution_count": null,
   "id": "b52164f1",
   "metadata": {},
   "outputs": [],
   "source": [
    "def make_vector(seqs):\n",
    "    seq_feats = np.zeros((len(seqs),1024))\n",
    "    \n",
    "    for i in range(len(seqs)):\n",
    "        ids = tokenizer.batch_encode_plus(seqs[i:i+1], add_special_tokens=True, padding=True)\n",
    "        input_ids = torch.tensor(ids['input_ids']).to(device)\n",
    "        attention_mask = torch.tensor(ids['attention_mask']).to(device)\n",
    "\n",
    "        with torch.no_grad():\n",
    "            embedding = model(input_ids=input_ids,attention_mask=attention_mask)\n",
    "            \n",
    "        encoder_embedding = embedding.last_hidden_state.cpu().numpy()\n",
    "        for seq_num in range(len(encoder_embedding)):\n",
    "            seq_len = (attention_mask[seq_num] == 1).sum()\n",
    "            seq_emd = encoder_embedding[seq_num][:seq_len-1]\n",
    "#             print(seq_emd.shape)\n",
    "            seq_feats[i,:] = np.mean(seq_emd, axis=0)\n",
    "#             seq_feats[i,:] = encoder_embedding[seq_num][seq_len-1:seq_len]\n",
    "    \n",
    "    return seq_feats"
   ]
  },
  {
   "cell_type": "code",
   "execution_count": null,
   "id": "8f79042d",
   "metadata": {},
   "outputs": [],
   "source": [
    "T5_matrix = make_vector(X_)"
   ]
  },
  {
   "cell_type": "code",
   "execution_count": null,
   "id": "94747bc7",
   "metadata": {},
   "outputs": [],
   "source": [
    "T5_matrix.shape"
   ]
  },
  {
   "cell_type": "code",
   "execution_count": null,
   "id": "350a88a2",
   "metadata": {},
   "outputs": [],
   "source": [
    "def normalization(data):\n",
    "    _range = np.max(data) - np.min(data)\n",
    "    return (data - np.min(data)) / _range"
   ]
  },
  {
   "cell_type": "code",
   "execution_count": null,
   "id": "b53cfa97",
   "metadata": {},
   "outputs": [],
   "source": [
    "T5_norm = np.zeros((21164,1024))\n",
    "for i in range(21164):\n",
    "    temp = normalization(T5_matrix[i,:])\n",
    "    T5_norm[i,:] = temp"
   ]
  },
  {
   "cell_type": "code",
   "execution_count": null,
   "id": "7d74c0c7",
   "metadata": {},
   "outputs": [],
   "source": [
    "# np.save('Alternate/t5_mean.npy',T5_norm)"
   ]
  }
 ],
 "metadata": {
  "kernelspec": {
   "display_name": "Python 3 (ipykernel)",
   "language": "python",
   "name": "python3"
  },
  "language_info": {
   "codemirror_mode": {
    "name": "ipython",
    "version": 3
   },
   "file_extension": ".py",
   "mimetype": "text/x-python",
   "name": "python",
   "nbconvert_exporter": "python",
   "pygments_lexer": "ipython3",
   "version": "3.9.12"
  }
 },
 "nbformat": 4,
 "nbformat_minor": 5
}
